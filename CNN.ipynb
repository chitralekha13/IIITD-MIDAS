{
  "nbformat": 4,
  "nbformat_minor": 0,
  "metadata": {
    "colab": {
      "name": "CNN.ipynb",
      "provenance": [],
      "collapsed_sections": [],
      "toc_visible": true,
      "include_colab_link": true
    },
    "kernelspec": {
      "name": "python3",
      "display_name": "Python 3"
    },
    "language_info": {
      "name": "python"
    }
  },
  "cells": [
    {
      "cell_type": "markdown",
      "metadata": {
        "id": "view-in-github",
        "colab_type": "text"
      },
      "source": [
        "<a href=\"https://colab.research.google.com/github/chitralekha13/IIITD-MIDAS/blob/main/CNN.ipynb\" target=\"_parent\"><img src=\"https://colab.research.google.com/assets/colab-badge.svg\" alt=\"Open In Colab\"/></a>"
      ]
    },
    {
      "cell_type": "code",
      "metadata": {
        "colab": {
          "base_uri": "https://localhost:8080/"
        },
        "id": "x_qp1AS-ArLl",
        "outputId": "a92996ba-2b0b-4f7a-db61-b7cefa8f354f"
      },
      "source": [
        "#data cleansing of the given appstore_games dataSet\n",
        "import pandas as pd\n",
        "from google.colab import files\n",
        "import os\n",
        "import numpy as np\n",
        "import tensorflow.compat.v1 as tf\n",
        "import seaborn as sns\n",
        "import matplotlib.pyplot as plt\n",
        "import re\n",
        "\n",
        "from nltk.stem import WordNetLemmatizer\n",
        "from nltk.tokenize import sent_tokenize, word_tokenize\n",
        "from nltk import pos_tag\n",
        "from nltk.corpus import wordnet\n",
        "\n",
        "import sys\n",
        "import warnings\n",
        "import random\n",
        "\n",
        "if not sys.warnoptions:\n",
        "    warnings.simplefilter(\"ignore\")\n",
        "tf.disable_v2_behavior()\n",
        "\n",
        "#uploaded = files.upload()"
      ],
      "execution_count": null,
      "outputs": [
        {
          "output_type": "stream",
          "text": [
            "WARNING:tensorflow:From /usr/local/lib/python3.7/dist-packages/tensorflow/python/compat/v2_compat.py:96: disable_resource_variables (from tensorflow.python.ops.variable_scope) is deprecated and will be removed in a future version.\n",
            "Instructions for updating:\n",
            "non-resource variables are not supported in the long term\n"
          ],
          "name": "stdout"
        }
      ]
    },
    {
      "cell_type": "code",
      "metadata": {
        "id": "u9PGxY-WERcQ"
      },
      "source": [
        "data = pd.read_csv(\"dataset.csv\")"
      ],
      "execution_count": null,
      "outputs": []
    },
    {
      "cell_type": "code",
      "metadata": {
        "colab": {
          "base_uri": "https://localhost:8080/",
          "height": 479
        },
        "id": "jTnTFLLdERe5",
        "outputId": "bc1e7c95-b34b-455d-89a4-b10aedd5d63b"
      },
      "source": [
        "data.head()"
      ],
      "execution_count": null,
      "outputs": [
        {
          "output_type": "execute_result",
          "data": {
            "text/html": [
              "<div>\n",
              "<style scoped>\n",
              "    .dataframe tbody tr th:only-of-type {\n",
              "        vertical-align: middle;\n",
              "    }\n",
              "\n",
              "    .dataframe tbody tr th {\n",
              "        vertical-align: top;\n",
              "    }\n",
              "\n",
              "    .dataframe thead th {\n",
              "        text-align: right;\n",
              "    }\n",
              "</style>\n",
              "<table border=\"1\" class=\"dataframe\">\n",
              "  <thead>\n",
              "    <tr style=\"text-align: right;\">\n",
              "      <th></th>\n",
              "      <th>uniq_id</th>\n",
              "      <th>crawl_timestamp</th>\n",
              "      <th>product_url</th>\n",
              "      <th>product_name</th>\n",
              "      <th>product_category_tree</th>\n",
              "      <th>pid</th>\n",
              "      <th>retail_price</th>\n",
              "      <th>discounted_price</th>\n",
              "      <th>image</th>\n",
              "      <th>is_FK_Advantage_product</th>\n",
              "      <th>description</th>\n",
              "      <th>product_rating</th>\n",
              "      <th>overall_rating</th>\n",
              "      <th>brand</th>\n",
              "      <th>product_specifications</th>\n",
              "    </tr>\n",
              "  </thead>\n",
              "  <tbody>\n",
              "    <tr>\n",
              "      <th>0</th>\n",
              "      <td>c2d766ca982eca8304150849735ffef9</td>\n",
              "      <td>2016-03-25 22:59:23 +0000</td>\n",
              "      <td>http://www.flipkart.com/alisha-solid-women-s-c...</td>\n",
              "      <td>Alisha Solid Women's Cycling Shorts</td>\n",
              "      <td>[\"Clothing &gt;&gt; Women's Clothing &gt;&gt; Lingerie, Sl...</td>\n",
              "      <td>SRTEH2FF9KEDEFGF</td>\n",
              "      <td>999.0</td>\n",
              "      <td>379.0</td>\n",
              "      <td>[\"http://img5a.flixcart.com/image/short/u/4/a/...</td>\n",
              "      <td>False</td>\n",
              "      <td>Key Features of Alisha Solid Women's Cycling S...</td>\n",
              "      <td>No rating available</td>\n",
              "      <td>No rating available</td>\n",
              "      <td>Alisha</td>\n",
              "      <td>{\"product_specification\"=&gt;[{\"key\"=&gt;\"Number of ...</td>\n",
              "    </tr>\n",
              "    <tr>\n",
              "      <th>1</th>\n",
              "      <td>7f7036a6d550aaa89d34c77bd39a5e48</td>\n",
              "      <td>2016-03-25 22:59:23 +0000</td>\n",
              "      <td>http://www.flipkart.com/fabhomedecor-fabric-do...</td>\n",
              "      <td>FabHomeDecor Fabric Double Sofa Bed</td>\n",
              "      <td>[\"Furniture &gt;&gt; Living Room Furniture &gt;&gt; Sofa B...</td>\n",
              "      <td>SBEEH3QGU7MFYJFY</td>\n",
              "      <td>32157.0</td>\n",
              "      <td>22646.0</td>\n",
              "      <td>[\"http://img6a.flixcart.com/image/sofa-bed/j/f...</td>\n",
              "      <td>False</td>\n",
              "      <td>FabHomeDecor Fabric Double Sofa Bed (Finish Co...</td>\n",
              "      <td>No rating available</td>\n",
              "      <td>No rating available</td>\n",
              "      <td>FabHomeDecor</td>\n",
              "      <td>{\"product_specification\"=&gt;[{\"key\"=&gt;\"Installati...</td>\n",
              "    </tr>\n",
              "    <tr>\n",
              "      <th>2</th>\n",
              "      <td>f449ec65dcbc041b6ae5e6a32717d01b</td>\n",
              "      <td>2016-03-25 22:59:23 +0000</td>\n",
              "      <td>http://www.flipkart.com/aw-bellies/p/itmeh4grg...</td>\n",
              "      <td>AW Bellies</td>\n",
              "      <td>[\"Footwear &gt;&gt; Women's Footwear &gt;&gt; Ballerinas &gt;...</td>\n",
              "      <td>SHOEH4GRSUBJGZXE</td>\n",
              "      <td>999.0</td>\n",
              "      <td>499.0</td>\n",
              "      <td>[\"http://img5a.flixcart.com/image/shoe/7/z/z/r...</td>\n",
              "      <td>False</td>\n",
              "      <td>Key Features of AW Bellies Sandals Wedges Heel...</td>\n",
              "      <td>No rating available</td>\n",
              "      <td>No rating available</td>\n",
              "      <td>AW</td>\n",
              "      <td>{\"product_specification\"=&gt;[{\"key\"=&gt;\"Ideal For\"...</td>\n",
              "    </tr>\n",
              "    <tr>\n",
              "      <th>3</th>\n",
              "      <td>0973b37acd0c664e3de26e97e5571454</td>\n",
              "      <td>2016-03-25 22:59:23 +0000</td>\n",
              "      <td>http://www.flipkart.com/alisha-solid-women-s-c...</td>\n",
              "      <td>Alisha Solid Women's Cycling Shorts</td>\n",
              "      <td>[\"Clothing &gt;&gt; Women's Clothing &gt;&gt; Lingerie, Sl...</td>\n",
              "      <td>SRTEH2F6HUZMQ6SJ</td>\n",
              "      <td>699.0</td>\n",
              "      <td>267.0</td>\n",
              "      <td>[\"http://img5a.flixcart.com/image/short/6/2/h/...</td>\n",
              "      <td>False</td>\n",
              "      <td>Key Features of Alisha Solid Women's Cycling S...</td>\n",
              "      <td>No rating available</td>\n",
              "      <td>No rating available</td>\n",
              "      <td>Alisha</td>\n",
              "      <td>{\"product_specification\"=&gt;[{\"key\"=&gt;\"Number of ...</td>\n",
              "    </tr>\n",
              "    <tr>\n",
              "      <th>4</th>\n",
              "      <td>bc940ea42ee6bef5ac7cea3fb5cfbee7</td>\n",
              "      <td>2016-03-25 22:59:23 +0000</td>\n",
              "      <td>http://www.flipkart.com/sicons-all-purpose-arn...</td>\n",
              "      <td>Sicons All Purpose Arnica Dog Shampoo</td>\n",
              "      <td>[\"Pet Supplies &gt;&gt; Grooming &gt;&gt; Skin &amp; Coat Care...</td>\n",
              "      <td>PSOEH3ZYDMSYARJ5</td>\n",
              "      <td>220.0</td>\n",
              "      <td>210.0</td>\n",
              "      <td>[\"http://img5a.flixcart.com/image/pet-shampoo/...</td>\n",
              "      <td>False</td>\n",
              "      <td>Specifications of Sicons All Purpose Arnica Do...</td>\n",
              "      <td>No rating available</td>\n",
              "      <td>No rating available</td>\n",
              "      <td>Sicons</td>\n",
              "      <td>{\"product_specification\"=&gt;[{\"key\"=&gt;\"Pet Type\",...</td>\n",
              "    </tr>\n",
              "  </tbody>\n",
              "</table>\n",
              "</div>"
            ],
            "text/plain": [
              "                            uniq_id  ...                             product_specifications\n",
              "0  c2d766ca982eca8304150849735ffef9  ...  {\"product_specification\"=>[{\"key\"=>\"Number of ...\n",
              "1  7f7036a6d550aaa89d34c77bd39a5e48  ...  {\"product_specification\"=>[{\"key\"=>\"Installati...\n",
              "2  f449ec65dcbc041b6ae5e6a32717d01b  ...  {\"product_specification\"=>[{\"key\"=>\"Ideal For\"...\n",
              "3  0973b37acd0c664e3de26e97e5571454  ...  {\"product_specification\"=>[{\"key\"=>\"Number of ...\n",
              "4  bc940ea42ee6bef5ac7cea3fb5cfbee7  ...  {\"product_specification\"=>[{\"key\"=>\"Pet Type\",...\n",
              "\n",
              "[5 rows x 15 columns]"
            ]
          },
          "metadata": {
            "tags": []
          },
          "execution_count": 3
        }
      ]
    },
    {
      "cell_type": "code",
      "metadata": {
        "id": "-r9UK2sYERhi"
      },
      "source": [
        "#dropping all the unnecessary coloumns\n",
        "data.drop(\"uniq_id\", inplace=True, axis=1)\n",
        "data.drop(\"crawl_timestamp\", inplace=True, axis=1)\n",
        "data.drop(\"product_url\", inplace=True, axis=1)\n",
        "data.drop(\"retail_price\", inplace=True, axis=1)\n",
        "data.drop(\"discounted_price\", inplace=True, axis=1)\n",
        "data.drop(\"image\", inplace=True, axis=1)\n",
        "data.drop(\"is_FK_Advantage_product\", inplace=True, axis=1)\n",
        "data.drop(\"product_rating\", inplace=True, axis=1)\n",
        "data.drop(\"overall_rating\", inplace=True, axis=1)\n",
        "data.drop(\"product_specifications\", inplace=True, axis=1)"
      ],
      "execution_count": null,
      "outputs": []
    },
    {
      "cell_type": "code",
      "metadata": {
        "colab": {
          "base_uri": "https://localhost:8080/",
          "height": 204
        },
        "id": "NWs0j2CCERj-",
        "outputId": "a447e571-602b-4b10-b69a-ba052cee292a"
      },
      "source": [
        "data.head()"
      ],
      "execution_count": null,
      "outputs": [
        {
          "output_type": "execute_result",
          "data": {
            "text/html": [
              "<div>\n",
              "<style scoped>\n",
              "    .dataframe tbody tr th:only-of-type {\n",
              "        vertical-align: middle;\n",
              "    }\n",
              "\n",
              "    .dataframe tbody tr th {\n",
              "        vertical-align: top;\n",
              "    }\n",
              "\n",
              "    .dataframe thead th {\n",
              "        text-align: right;\n",
              "    }\n",
              "</style>\n",
              "<table border=\"1\" class=\"dataframe\">\n",
              "  <thead>\n",
              "    <tr style=\"text-align: right;\">\n",
              "      <th></th>\n",
              "      <th>product_name</th>\n",
              "      <th>product_category_tree</th>\n",
              "      <th>pid</th>\n",
              "      <th>description</th>\n",
              "      <th>brand</th>\n",
              "    </tr>\n",
              "  </thead>\n",
              "  <tbody>\n",
              "    <tr>\n",
              "      <th>0</th>\n",
              "      <td>Alisha Solid Women's Cycling Shorts</td>\n",
              "      <td>[\"Clothing &gt;&gt; Women's Clothing &gt;&gt; Lingerie, Sl...</td>\n",
              "      <td>SRTEH2FF9KEDEFGF</td>\n",
              "      <td>Key Features of Alisha Solid Women's Cycling S...</td>\n",
              "      <td>Alisha</td>\n",
              "    </tr>\n",
              "    <tr>\n",
              "      <th>1</th>\n",
              "      <td>FabHomeDecor Fabric Double Sofa Bed</td>\n",
              "      <td>[\"Furniture &gt;&gt; Living Room Furniture &gt;&gt; Sofa B...</td>\n",
              "      <td>SBEEH3QGU7MFYJFY</td>\n",
              "      <td>FabHomeDecor Fabric Double Sofa Bed (Finish Co...</td>\n",
              "      <td>FabHomeDecor</td>\n",
              "    </tr>\n",
              "    <tr>\n",
              "      <th>2</th>\n",
              "      <td>AW Bellies</td>\n",
              "      <td>[\"Footwear &gt;&gt; Women's Footwear &gt;&gt; Ballerinas &gt;...</td>\n",
              "      <td>SHOEH4GRSUBJGZXE</td>\n",
              "      <td>Key Features of AW Bellies Sandals Wedges Heel...</td>\n",
              "      <td>AW</td>\n",
              "    </tr>\n",
              "    <tr>\n",
              "      <th>3</th>\n",
              "      <td>Alisha Solid Women's Cycling Shorts</td>\n",
              "      <td>[\"Clothing &gt;&gt; Women's Clothing &gt;&gt; Lingerie, Sl...</td>\n",
              "      <td>SRTEH2F6HUZMQ6SJ</td>\n",
              "      <td>Key Features of Alisha Solid Women's Cycling S...</td>\n",
              "      <td>Alisha</td>\n",
              "    </tr>\n",
              "    <tr>\n",
              "      <th>4</th>\n",
              "      <td>Sicons All Purpose Arnica Dog Shampoo</td>\n",
              "      <td>[\"Pet Supplies &gt;&gt; Grooming &gt;&gt; Skin &amp; Coat Care...</td>\n",
              "      <td>PSOEH3ZYDMSYARJ5</td>\n",
              "      <td>Specifications of Sicons All Purpose Arnica Do...</td>\n",
              "      <td>Sicons</td>\n",
              "    </tr>\n",
              "  </tbody>\n",
              "</table>\n",
              "</div>"
            ],
            "text/plain": [
              "                            product_name  ...         brand\n",
              "0    Alisha Solid Women's Cycling Shorts  ...        Alisha\n",
              "1    FabHomeDecor Fabric Double Sofa Bed  ...  FabHomeDecor\n",
              "2                             AW Bellies  ...            AW\n",
              "3    Alisha Solid Women's Cycling Shorts  ...        Alisha\n",
              "4  Sicons All Purpose Arnica Dog Shampoo  ...        Sicons\n",
              "\n",
              "[5 rows x 5 columns]"
            ]
          },
          "metadata": {
            "tags": []
          },
          "execution_count": 5
        }
      ]
    },
    {
      "cell_type": "code",
      "metadata": {
        "colab": {
          "base_uri": "https://localhost:8080/"
        },
        "id": "yOrL9hcDERmg",
        "outputId": "d987c19e-0f50-4148-d108-b03e408b4df0"
      },
      "source": [
        "data.shape\n",
        "data.dropna"
      ],
      "execution_count": null,
      "outputs": [
        {
          "output_type": "execute_result",
          "data": {
            "text/plain": [
              "<bound method DataFrame.dropna of                                   product_name  ...             brand\n",
              "0          Alisha Solid Women's Cycling Shorts  ...            Alisha\n",
              "1          FabHomeDecor Fabric Double Sofa Bed  ...      FabHomeDecor\n",
              "2                                   AW Bellies  ...                AW\n",
              "3          Alisha Solid Women's Cycling Shorts  ...            Alisha\n",
              "4        Sicons All Purpose Arnica Dog Shampoo  ...            Sicons\n",
              "...                                        ...  ...               ...\n",
              "19995           WallDesign Small Vinyl Sticker  ...        WallDesign\n",
              "19996  Wallmantra Large Vinyl Stickers Sticker  ...        Wallmantra\n",
              "19997  Elite Collection Medium Acrylic Sticker  ...  Elite Collection\n",
              "19998  Elite Collection Medium Acrylic Sticker  ...  Elite Collection\n",
              "19999  Elite Collection Medium Acrylic Sticker  ...  Elite Collection\n",
              "\n",
              "[20000 rows x 5 columns]>"
            ]
          },
          "metadata": {
            "tags": []
          },
          "execution_count": 6
        }
      ]
    },
    {
      "cell_type": "code",
      "metadata": {
        "id": "9Bwrwe0JERru"
      },
      "source": [
        "def clean_alt_list(list_):\n",
        "    \n",
        "    list_ = list_.replace('>>', ' ')\n",
        "    list_ = list_.replace('[\"', ' ')\n",
        "    \n",
        "    list_ = list_.replace('\"]', ' ')\n",
        "    \n",
        "    list_ = list_.replace(',', ' ')\n",
        "    list_ = list(list_.split(\" \"))\n",
        "    list_ = list_[1]\n",
        "\n",
        "    return list_"
      ],
      "execution_count": null,
      "outputs": []
    },
    {
      "cell_type": "code",
      "metadata": {
        "colab": {
          "base_uri": "https://localhost:8080/",
          "height": 419
        },
        "id": "ZV6PgQZtERuf",
        "outputId": "f31a6b6a-829c-4ecf-ab00-fc51c36ca982"
      },
      "source": [
        "df = data.copy()\n",
        "df['product_category_tree'] = df['product_category_tree'].apply(clean_alt_list)\n",
        "#df['product_category_tree'] = df['product_category_tree'].str.replace('[', ' ')\n",
        "#df['product_category_tree'] = df['product_category_tree'].str.replace('[', ' ')\n",
        "#df['product_category_tree'] = df['product_category_tree'].str.split()\n",
        "#df['product_category_treee'] = df['product_category_tree'].strip(' ')\n",
        "#data1['product_category_treee'] = data1['product_category_treee'].map(lambda x: x[0])\n",
        "df.tail(100)\n"
      ],
      "execution_count": null,
      "outputs": [
        {
          "output_type": "execute_result",
          "data": {
            "text/html": [
              "<div>\n",
              "<style scoped>\n",
              "    .dataframe tbody tr th:only-of-type {\n",
              "        vertical-align: middle;\n",
              "    }\n",
              "\n",
              "    .dataframe tbody tr th {\n",
              "        vertical-align: top;\n",
              "    }\n",
              "\n",
              "    .dataframe thead th {\n",
              "        text-align: right;\n",
              "    }\n",
              "</style>\n",
              "<table border=\"1\" class=\"dataframe\">\n",
              "  <thead>\n",
              "    <tr style=\"text-align: right;\">\n",
              "      <th></th>\n",
              "      <th>product_name</th>\n",
              "      <th>product_category_tree</th>\n",
              "      <th>pid</th>\n",
              "      <th>description</th>\n",
              "      <th>brand</th>\n",
              "    </tr>\n",
              "  </thead>\n",
              "  <tbody>\n",
              "    <tr>\n",
              "      <th>19900</th>\n",
              "      <td>Uberlyfe Extra Large Pigmented Polyvinyl Films...</td>\n",
              "      <td>Baby</td>\n",
              "      <td>STIE5UVGW2JWVWCT</td>\n",
              "      <td>Buy Uberlyfe Extra Large Pigmented Polyvinyl F...</td>\n",
              "      <td>Uberlyfe</td>\n",
              "    </tr>\n",
              "    <tr>\n",
              "      <th>19901</th>\n",
              "      <td>La Isla Women Heels</td>\n",
              "      <td>Footwear</td>\n",
              "      <td>SNDEY7QPXUF5PZSZ</td>\n",
              "      <td>Flipkart.com: Buy La Isla Women Heels only for...</td>\n",
              "      <td>NaN</td>\n",
              "    </tr>\n",
              "    <tr>\n",
              "      <th>19902</th>\n",
              "      <td>Wallmantra Medium Vinyl Sticker Sticker</td>\n",
              "      <td>Baby</td>\n",
              "      <td>STIEC889ZGFD3RCE</td>\n",
              "      <td>Buy Wallmantra Medium Vinyl Sticker Sticker fo...</td>\n",
              "      <td>Wallmantra</td>\n",
              "    </tr>\n",
              "    <tr>\n",
              "      <th>19903</th>\n",
              "      <td>Fun To See Reusable Sticker</td>\n",
              "      <td>Baby</td>\n",
              "      <td>STIE2KFZTQFVYZQQ</td>\n",
              "      <td>Buy Fun To See Reusable Sticker for Rs.1099 on...</td>\n",
              "      <td>Fun To See</td>\n",
              "    </tr>\n",
              "    <tr>\n",
              "      <th>19904</th>\n",
              "      <td>WallDesign Small Vinyl Sticker</td>\n",
              "      <td>Baby</td>\n",
              "      <td>STIE7KFGSBYBQG8U</td>\n",
              "      <td>Buy WallDesign Small Vinyl Sticker for Rs.530 ...</td>\n",
              "      <td>WallDesign</td>\n",
              "    </tr>\n",
              "    <tr>\n",
              "      <th>...</th>\n",
              "      <td>...</td>\n",
              "      <td>...</td>\n",
              "      <td>...</td>\n",
              "      <td>...</td>\n",
              "      <td>...</td>\n",
              "    </tr>\n",
              "    <tr>\n",
              "      <th>19995</th>\n",
              "      <td>WallDesign Small Vinyl Sticker</td>\n",
              "      <td>Baby</td>\n",
              "      <td>STIE7KFJAKSTDY9G</td>\n",
              "      <td>Buy WallDesign Small Vinyl Sticker for Rs.730 ...</td>\n",
              "      <td>WallDesign</td>\n",
              "    </tr>\n",
              "    <tr>\n",
              "      <th>19996</th>\n",
              "      <td>Wallmantra Large Vinyl Stickers Sticker</td>\n",
              "      <td>Baby</td>\n",
              "      <td>STIE9F5URNQGJCGH</td>\n",
              "      <td>Buy Wallmantra Large Vinyl Stickers Sticker fo...</td>\n",
              "      <td>Wallmantra</td>\n",
              "    </tr>\n",
              "    <tr>\n",
              "      <th>19997</th>\n",
              "      <td>Elite Collection Medium Acrylic Sticker</td>\n",
              "      <td>Baby</td>\n",
              "      <td>STIE7VAYDKQZEBSD</td>\n",
              "      <td>Buy Elite Collection Medium Acrylic Sticker fo...</td>\n",
              "      <td>Elite Collection</td>\n",
              "    </tr>\n",
              "    <tr>\n",
              "      <th>19998</th>\n",
              "      <td>Elite Collection Medium Acrylic Sticker</td>\n",
              "      <td>Baby</td>\n",
              "      <td>STIE8YSVEPPCZ42Y</td>\n",
              "      <td>Buy Elite Collection Medium Acrylic Sticker fo...</td>\n",
              "      <td>Elite Collection</td>\n",
              "    </tr>\n",
              "    <tr>\n",
              "      <th>19999</th>\n",
              "      <td>Elite Collection Medium Acrylic Sticker</td>\n",
              "      <td>Baby</td>\n",
              "      <td>STIE88KN9ZDSGZKY</td>\n",
              "      <td>Buy Elite Collection Medium Acrylic Sticker fo...</td>\n",
              "      <td>Elite Collection</td>\n",
              "    </tr>\n",
              "  </tbody>\n",
              "</table>\n",
              "<p>100 rows × 5 columns</p>\n",
              "</div>"
            ],
            "text/plain": [
              "                                            product_name  ...             brand\n",
              "19900  Uberlyfe Extra Large Pigmented Polyvinyl Films...  ...          Uberlyfe\n",
              "19901                                La Isla Women Heels  ...               NaN\n",
              "19902            Wallmantra Medium Vinyl Sticker Sticker  ...        Wallmantra\n",
              "19903                        Fun To See Reusable Sticker  ...        Fun To See\n",
              "19904                     WallDesign Small Vinyl Sticker  ...        WallDesign\n",
              "...                                                  ...  ...               ...\n",
              "19995                     WallDesign Small Vinyl Sticker  ...        WallDesign\n",
              "19996            Wallmantra Large Vinyl Stickers Sticker  ...        Wallmantra\n",
              "19997            Elite Collection Medium Acrylic Sticker  ...  Elite Collection\n",
              "19998            Elite Collection Medium Acrylic Sticker  ...  Elite Collection\n",
              "19999            Elite Collection Medium Acrylic Sticker  ...  Elite Collection\n",
              "\n",
              "[100 rows x 5 columns]"
            ]
          },
          "metadata": {
            "tags": []
          },
          "execution_count": 8
        }
      ]
    },
    {
      "cell_type": "code",
      "metadata": {
        "colab": {
          "base_uri": "https://localhost:8080/"
        },
        "id": "k8bVJFhiERxR",
        "outputId": "5055ac43-fd02-4739-b0ed-9fa382ac7c20"
      },
      "source": [
        "df.product_category_tree.unique()"
      ],
      "execution_count": null,
      "outputs": [
        {
          "output_type": "execute_result",
          "data": {
            "text/plain": [
              "array(['Clothing', 'Furniture', 'Footwear', 'Pet', 'Eternal', 'Pens',\n",
              "       'Sports', 'Beauty', 'Bengal', 'Bags', 'Home', 'Automotive',\n",
              "       'Tools', 'Vishudh', 'BuildTrack', 'Skayvon', 'MASARA', 'Behringer',\n",
              "       'Noor', 'Libas', 'Baby', 'Mobiles', 'Food', 'Watches', 'Toys',\n",
              "       'Jewellery', 'Cellbazaar', 'Dressberry', 'Mast', 'Sisel', 'Knight',\n",
              "       'Indistar', 'Glacier', 'Asics', 'Escan', 'Nine', 'Sunglasses',\n",
              "       'Kitchen', 'Computers', 'Cameras', 'ANAND', 'Prime', 'Health',\n",
              "       'Speedwav', 'Vitamins', 'Gaming', 'Sumo', 'Kombee', 'NEWGEN',\n",
              "       'Automation', 'K&P', 'Adidas', 'Bootwale', 'clickforsign',\n",
              "       'Treppe', 'Kanvas', 'Klaur', 'Clickforsign', 'kem', 'Carbanao',\n",
              "       'Oddy', 'Synergy', 'SHOPOJ', 'SUPERMOD', 'Lilliput', 'Frabjous',\n",
              "       'Zevrr', 'Rasav', 'Royal', 'ANASAZI', 'INVENTURE', 'Fabpoppy',\n",
              "       'Power', 'Gking', 'GM', 'Shrih', 'Threads', 'xy', 'Favourite',\n",
              "       'Disney', 'Little', 'Wearable', 'The', 'fourgee', 'Laser', 'INKT',\n",
              "       \"E'Hiose\", 'Lucky', 'Ocean', 'Wella', 'Pu-Good', 'Olvin', 'TSG',\n",
              "       'Pout', 'classyworld', 'HANS', 'TIMBERLAKE', 'Urban', 'FEET',\n",
              "       'Jazz', 'Miss', 'Dilan', 'SMART', 'Clovia', 'PrivateLifes',\n",
              "       'COIRFIT', 'Spa', 'run', 'SAY', 'Legmark', 'Siyas', 'Dassler',\n",
              "       'piftif', 'REMSON', 'killys', 'INDILEGO', 'Firangi', 'Starsy',\n",
              "       'Oly', 'soie', 'Auraa', 'e-Fresh', 'Attitude', 'Kalpaveda',\n",
              "       'Walkline', 'D&D', 'Ajaero', \"Ruhi's\", 'Samprada', 'Naaz', 'Camey',\n",
              "       'Viral', 'Wellon', 'Amita', 'Impala', 'Fly', 'Crafty', 'tadd',\n",
              "       'Dolz', 'LondonHouze', 'Linzina', 'Foot', '883', 'Style', 'Just',\n",
              "       'SJ', 'Pia', 'Car', 'Sj', 'FIFO', 'Himmlisch', 'V&G', 'Anuradha',\n",
              "       'Shonaya', 'JUSF2', 'Sonaxo', 'Koie', 'OEM', 'Kittens',\n",
              "       'AutoKraftZ', 'GALLOWAY', 'Dremel', 'Eyewear', 'ABEEZ', 'Joyra',\n",
              "       'BLM', 'ATV', 'Be', 'Taurus', 'Abhinl', 'UFO', 'LGRL',\n",
              "       'Breakbounce', 'BALAJI', 'Siemens', 'Remax', 'Boreal', 'Srajanaa',\n",
              "       'Selfcare', 'Sugandh', 'Arial', 'eBooks', 'Zikrak', 'Zixtro',\n",
              "       'New', 'RajeshFashion', 'United', 'SRPC', 'Kraft', 'Autoplus',\n",
              "       'Leading', 'Yo', 'THERISE', 'Nut', 'Vinenzia', 'Planet', 'Small',\n",
              "       'EASIES', 'Household', 'Pazel', 'Corcepts', 'Areon'], dtype=object)"
            ]
          },
          "metadata": {
            "tags": []
          },
          "execution_count": 9
        }
      ]
    },
    {
      "cell_type": "code",
      "metadata": {
        "id": "_nMoqvkZERz9"
      },
      "source": [
        "Non_Main_Genres = df[~df.product_category_tree.str.contains('Clothing') & \\\n",
        "                    ~df.product_category_tree.str.contains('Pens') & \\\n",
        "                    ~df.product_category_tree.str.contains('Automotive\t') & \\\n",
        "                    ~df.product_category_tree.str.contains('Tools') & \\\n",
        "                    ~df.product_category_tree.str.contains('Beauty') & \\\n",
        "                    ~df.product_category_tree.str.contains('Home') & \\\n",
        "                    ~df.product_category_tree.str.contains('Jewellery') & \\\n",
        "                    ~df.product_category_tree.str.contains('Sports') & \\\n",
        "                    ~df.product_category_tree.str.contains('Baby') & \\\n",
        "                    ~df.product_category_tree.str.contains('Gaming') & \\\n",
        "                    ~df.product_category_tree.str.contains('Bags') & \\\n",
        "                    ~df.product_category_tree.str.contains('Computers') & \\\n",
        "                    ~df.product_category_tree.str.contains('Kitchen') & \\\n",
        "                    ~df.product_category_tree.str.contains('Mobiles') & \\\n",
        "                    ~df.product_category_tree.str.contains('Footwear') & \\\n",
        "                    ~df.product_category_tree.str.contains('Watches') ].index\n",
        "df.drop(Non_Main_Genres , inplace = True)"
      ],
      "execution_count": null,
      "outputs": []
    },
    {
      "cell_type": "code",
      "metadata": {
        "colab": {
          "base_uri": "https://localhost:8080/",
          "height": 636
        },
        "id": "qeWx6cKeER2n",
        "outputId": "f5babf72-493e-4f0d-c3fb-e14c8ce7ff9c"
      },
      "source": [
        "import matplotlib.pyplot as plt\n",
        "plt.figure(figsize=(15,10))\n",
        "df['product_category_tree'].value_counts().plot.bar()\n",
        "plt.show()"
      ],
      "execution_count": null,
      "outputs": [
        {
          "output_type": "display_data",
          "data": {
            "image/png": "[encoded data removed]",
            "text/plain": [
              "<Figure size 1080x720 with 1 Axes>"
            ]
          },
          "metadata": {
            "tags": [],
            "needs_background": "light"
          }
        }
      ]
    },
    {
      "cell_type": "code",
      "metadata": {
        "colab": {
          "base_uri": "https://localhost:8080/"
        },
        "id": "n4-_uYZ4ER5E",
        "outputId": "f28dbed5-cda5-4ab7-a0d2-1b99d5d32d9d"
      },
      "source": [
        " import nltk\n",
        " nltk.download('punkt')\n",
        " nltk.download('averaged_perceptron_tagger')\n",
        " nltk.download('wordnet')"
      ],
      "execution_count": null,
      "outputs": [
        {
          "output_type": "stream",
          "text": [
            "[nltk_data] Downloading package punkt to /root/nltk_data...\n",
            "[nltk_data]   Unzipping tokenizers/punkt.zip.\n",
            "[nltk_data] Downloading package averaged_perceptron_tagger to\n",
            "[nltk_data]     /root/nltk_data...\n",
            "[nltk_data]   Unzipping taggers/averaged_perceptron_tagger.zip.\n",
            "[nltk_data] Downloading package wordnet to /root/nltk_data...\n",
            "[nltk_data]   Unzipping corpora/wordnet.zip.\n"
          ],
          "name": "stdout"
        },
        {
          "output_type": "execute_result",
          "data": {
            "text/plain": [
              "True"
            ]
          },
          "metadata": {
            "tags": []
          },
          "execution_count": 12
        }
      ]
    },
    {
      "cell_type": "code",
      "metadata": {
        "id": "2Tu80e5HER7X"
      },
      "source": [
        "all_text = list(df['description'][...])"
      ],
      "execution_count": null,
      "outputs": []
    },
    {
      "cell_type": "code",
      "metadata": {
        "id": "vmNl-LVlER9i"
      },
      "source": [
        "def get_wordnet_pos(treebank_tag):\n",
        "    \"\"\"\n",
        "    Return the POS of each word for later usage .\n",
        "    \"\"\"\n",
        "    if treebank_tag.startswith('J'):\n",
        "        return wordnet.ADJ\n",
        "    elif treebank_tag.startswith('V'):\n",
        "        return wordnet.VERB\n",
        "    elif treebank_tag.startswith('N'):\n",
        "        return wordnet.NOUN\n",
        "    elif treebank_tag.startswith('R'):\n",
        "        return wordnet.ADV\n",
        "    else:\n",
        "        return wordnet.NOUN "
      ],
      "execution_count": null,
      "outputs": []
    },
    {
      "cell_type": "code",
      "metadata": {
        "id": "9GYbttVGER_2"
      },
      "source": [
        "def clean_str(string):\n",
        "    \"\"\"\n",
        "    String cleaning .\n",
        "    \"\"\"\n",
        "    string = re.sub(r\"[^A-Za-z0-9]\", \" \",str(string)) # remove unused charactor other than english letter and number, use space to replace\n",
        "    return string.strip()                         # delete the first and last space"
      ],
      "execution_count": null,
      "outputs": []
    },
    {
      "cell_type": "code",
      "metadata": {
        "id": "d31kC7sbESCD"
      },
      "source": [
        "def text_lemmatization(l,lemmatizer,t_text, word_count):\n",
        "    \"\"\"\n",
        "    Tokenization: Split the text into words. \n",
        "    Lemmatize the text .\n",
        "    \"\"\"\n",
        "    for i in range(len(t_text)):\n",
        "        text_clean = clean_str(t_text[i])     # clean texts, remove useless symbols\n",
        "        text_word = word_tokenize(text_clean) # set each individual token\n",
        "        text_pos = pos_tag(text_word)         # pos tagging each token [word,POS]\n",
        "        text_lemma = \"\"\n",
        "        for item in text_pos:                 # lemmatizing each token\n",
        "            # Put each word after lemmatization into the list\n",
        "            text_lemma = text_lemma + \" \" + (lemmatizer.lemmatize(item[0],get_wordnet_pos(item[1])))     \n",
        "        l.append(text_lemma.strip())          # append the preprocessed sample to x_train list, remove the space\n",
        "        word_count.append(len(text_pos))\n",
        "    return l, word_count   \n"
      ],
      "execution_count": null,
      "outputs": []
    },
    {
      "cell_type": "code",
      "metadata": {
        "id": "Q54EuqY-ESEX"
      },
      "source": [
        "# preprocessing\n",
        "text = list()\n",
        "word_count = list()                   #statistics how many words in each sample\n",
        "lemmatizer = WordNetLemmatizer()      # model used to lemmatize word (defined by package nltk)\n",
        "text_lemmatized, word_count = text_lemmatization(text,lemmatizer,all_text, word_count)"
      ],
      "execution_count": null,
      "outputs": []
    },
    {
      "cell_type": "code",
      "metadata": {
        "id": "9-SFQauoESGx"
      },
      "source": [
        "class Indexer:\n",
        "    # Tokenizer\n",
        "    def __init__(self):\n",
        "        self.counter = 1\n",
        "        self.d = {\"<unk>\": 0}\n",
        "        self.rev = {}\n",
        "        self._lock = False\n",
        "        self.word_count = {}\n",
        "        self.rev_d = {}\n",
        "        self.rev[0] = \"unk\"\n",
        "    def convert(self, w):\n",
        "        if w not in self.d:\n",
        "            if self._lock:\n",
        "                return self.d[\"<unk>\"]\n",
        "            self.d[w] = self.counter\n",
        "            self.rev[self.counter] = w\n",
        "            self.counter += 1\n",
        "            self.word_count[self.d[w]] = 0\n",
        "        self.word_count[self.d[w]] = self.word_count[self.d[w]] + 1\n",
        "        return self.d[w]\n",
        "    def convertback(self, w):\n",
        "        return self.rev[w]\n",
        "    def lock(self):\n",
        "        self._lock = True"
      ],
      "execution_count": null,
      "outputs": []
    },
    {
      "cell_type": "code",
      "metadata": {
        "id": "O6T1U6EfFI4d"
      },
      "source": [
        "all_data = []\n",
        "split_data = []\n",
        "tokenizer = Indexer()\n",
        "max_len_sent = 0\n",
        "num_of_padding = 0\n",
        "vocabulary = 0\n",
        "max_index = 0\n",
        "for i, t in enumerate(text_lemmatized):\n",
        "    current_convert = [tokenizer.convert(w) for w in t.split()]\n",
        "    m = max(current_convert)\n",
        "    max_index = max(max_index,max(current_convert))\n",
        "    max_len_sent = max(max_len_sent, len(current_convert))\n",
        "    split_data.append(current_convert)\n",
        "vocabulary_size = max_index + 1    \n",
        "    \n",
        "    \n",
        "for i, t in enumerate(split_data):  \n",
        "    if (len(t) < max_len_sent):\n",
        "        num_of_padding = max_len_sent - len(t)\n",
        "        for n in range(0,num_of_padding):\n",
        "            t.append(0)        \n",
        "    all_data.append(t)\n",
        "\n",
        "\n",
        "text_df = pd.DataFrame(all_data)\n",
        "cate_df = pd.DataFrame(df['product_category_tree'])\n",
        "df_text_cate =  text_df \n",
        "df_text_cate['category'] = 'cat'\n",
        "for i in range(0,len(cate_df)):\n",
        "    df_text_cate.at[i,'category'] = cate_df.iloc[i]['product_category_tree']\n",
        "\n",
        "labels =  list(df_text_cate.category.unique())\n",
        "for l in labels:\n",
        "    df_text_cate[l] = 0\n",
        "for i in range(0,len(df_text_cate)):\n",
        "    cat = df_text_cate.iloc[i]['category']\n",
        "    df_text_cate.at[i,cat] = 1  "
      ],
      "execution_count": null,
      "outputs": []
    },
    {
      "cell_type": "code",
      "metadata": {
        "id": "tvq1Q32VFI6-"
      },
      "source": [
        "cat_sample_max = max(df['product_category_tree'].value_counts())\n",
        "delete_cate = ['Furniture', 'Pet', 'Eternal', 'Bengal', 'Automotive',\n",
        "        'Vishudh', 'BuildTrack', 'Skayvon', 'MASARA', 'Behringer',\n",
        "       'Noor', 'Libas',   'Food',  'Toys',\n",
        "        'Cellbazaar', 'Dressberry', 'Mast', 'Sisel', 'Knight',\n",
        "       'Indistar', 'Glacier', 'Asics', 'Escan', 'Nine', 'Sunglasses',\n",
        "       'Cameras', 'ANAND', 'Prime', 'Health',\n",
        "       'Speedwav', 'Vitamins', 'Sumo', 'Kombee', 'NEWGEN',\n",
        "       'Automation', 'K&P', 'Adidas', 'Bootwale', 'clickforsign',\n",
        "       'Treppe', 'Kanvas', 'Klaur', 'Clickforsign', 'kem', 'Carbanao',\n",
        "       'Oddy', 'Synergy', 'SHOPOJ', 'SUPERMOD', 'Lilliput', 'Frabjous',\n",
        "       'Zevrr', 'Rasav', 'Royal', 'ANASAZI', 'INVENTURE', 'Fabpoppy',\n",
        "       'Power', 'Gking', 'GM', 'Shrih', 'Threads', 'xy', 'Favourite',\n",
        "       'Disney', 'Little', 'Wearable', 'The', 'fourgee', 'Laser', 'INKT',\n",
        "       \"E'Hiose\", 'Lucky', 'Ocean', 'Wella', 'Pu-Good', 'Olvin', 'TSG',\n",
        "       'Pout', 'classyworld', 'HANS', 'TIMBERLAKE', 'Urban', 'FEET',\n",
        "       'Jazz', 'Miss', 'Dilan', 'SMART', 'Clovia', 'PrivateLifes',\n",
        "       'COIRFIT', 'Spa', 'run', 'SAY', 'Legmark', 'Siyas', 'Dassler',\n",
        "       'piftif', 'REMSON', 'killys', 'INDILEGO', 'Firangi', 'Starsy',\n",
        "       'Oly', 'soie', 'Auraa', 'e-Fresh', 'Attitude', 'Kalpaveda',\n",
        "       'Walkline', 'D&D', 'Ajaero', \"Ruhi's\", 'Samprada', 'Naaz', 'Camey',\n",
        "       'Viral', 'Wellon', 'Amita', 'Impala', 'Fly', 'Crafty', 'tadd',\n",
        "       'Dolz', 'LondonHouze', 'Linzina', 'Foot', '883', 'Style', 'Just',\n",
        "       'SJ', 'Pia', 'Car', 'Sj', 'FIFO', 'Himmlisch', 'V&G', 'Anuradha',\n",
        "       'Shonaya', 'JUSF2', 'Sonaxo', 'Koie', 'OEM', 'Kittens',\n",
        "       'AutoKraftZ', 'GALLOWAY', 'Dremel', 'Eyewear', 'ABEEZ', 'Joyra',\n",
        "       'BLM', 'ATV', 'Be', 'Taurus', 'Abhinl', 'UFO', 'LGRL',\n",
        "       'Breakbounce', 'BALAJI', 'Siemens', 'Remax', 'Boreal', 'Srajanaa',\n",
        "       'Selfcare', 'Sugandh', 'Arial', 'eBooks', 'Zikrak', 'Zixtro',\n",
        "       'New', 'RajeshFashion', 'United', 'SRPC', 'Kraft', 'Autoplus',\n",
        "       'Leading', 'Yo', 'THERISE', 'Nut', 'Vinenzia', 'Planet', 'Small',\n",
        "       'EASIES', 'Household', 'Pazel', 'Corcepts', 'Areon']\n",
        "\n",
        "for l in  delete_cate:\n",
        "    df.drop(df.loc[df['product_category_tree']==l].index, inplace=True)\n",
        "\n",
        "all_text = list(df['description'][...])\n",
        "all_cate = np.array(df['product_category_tree'].tolist())"
      ],
      "execution_count": null,
      "outputs": []
    },
    {
      "cell_type": "code",
      "metadata": {
        "id": "UZxsDKqtFW_o"
      },
      "source": [
        "def oversampling_and_split_dataset(df,trainingratio,l):\n",
        "    \n",
        "    trainingratio = 0.7\n",
        "    index_list = {}\n",
        "    number_of_samples_cat = {}\n",
        "    training_samples = {}\n",
        "    train_random_indices = {}\n",
        "    duplicated_train_indices = {}\n",
        "    for l in labels:\n",
        "        index_list[l] = np.array(df[df.category == l].index)\n",
        "        number_of_samples_cat[l] = len(index_list[l]) \n",
        "        training_samples[l] = round(number_of_samples_cat[l]*trainingratio)  \n",
        "        train_random_indices[l] = np.random.choice(index_list[l], training_samples[l], replace = False)\n",
        "        if (l == 'Clothing'): \n",
        "            duplicated_train_indices[l] = train_random_indices[l]\n",
        "        else:\n",
        "            baseline = int(round(cat_sample_max*trainingratio))\n",
        "            duplicated_train_indices[l] = np.random.choice(train_random_indices[l], baseline , replace = True)\n",
        "            duplicated_train_indices[l] = np.array(duplicated_train_indices[l])  \n",
        "    \n",
        "    train_indices = duplicated_train_indices['Mobiles']\n",
        "    for l in labels:\n",
        "        if (l != 'Mobiles'): \n",
        "            train_indices  = np.concatenate([train_indices, duplicated_train_indices[l]])\n",
        "   \n",
        "    training_data = df.iloc[train_indices,:]      \n",
        "    testing_data = df.drop(train_indices,axis=0)  \n",
        "\n",
        "    #shuffle the data\n",
        "    training_data=training_data.sample(frac=1).reset_index(drop=True)\n",
        "\n",
        "    split = int(len(testing_data)/2)\n",
        "    train_y = training_data.iloc[:,27:57]\n",
        "    train_x = training_data.iloc[:,0:26] \n",
        "    \n",
        "    valid_y = testing_data.iloc[0:split,27:57]\n",
        "    valid_x = testing_data.iloc[0:split,0:26]  \n",
        "    \n",
        "    test_y = testing_data.iloc[split:,27:57]\n",
        "    test_x = testing_data.iloc[split:,0:26] \n",
        "    \n",
        "    return train_x, train_y, valid_x, valid_y, test_x, test_y\n",
        "    \n",
        "\n",
        "train_ratio = 0.7\n",
        "training_x, training_y, validation_x, validation_y, testing_x, testing_y = oversampling_and_split_dataset(df_text_cate,train_ratio,labels)"
      ],
      "execution_count": null,
      "outputs": []
    },
    {
      "cell_type": "code",
      "metadata": {
        "id": "-54DeIelFXDl"
      },
      "source": [
        "# Model Hyperparameters\n",
        "embedding_dim = 50\n",
        "filter_sizes = \"3,4,5\"\n",
        "num_filters = 100\n",
        "dropout_keep_prob = 0.5\n",
        "l2_reg_lambda = 0.0\n",
        "\n",
        "# Training parameters\n",
        "batch_size = 64\n",
        "num_epochs = 80\n",
        "num_batches =len(training_x)/64 "
      ],
      "execution_count": null,
      "outputs": []
    },
    {
      "cell_type": "code",
      "metadata": {
        "id": "GOpu44SFFXKQ"
      },
      "source": [
        "class TextCNN(object):\n",
        "    \"\"\"\n",
        "    A CNN for text classification.\n",
        "    Uses an embedding layer, followed by a convolutional, max-pooling and softmax layer.\n",
        "    \"\"\"\n",
        "    def __init__(\n",
        "      self, sequence_length, num_classes, vocab_size,\n",
        "      embedding_size, filter_sizes, num_filters, l2_reg_lambda=0.0):\n",
        "\n",
        "        # Placeholders for input, output and dropout\n",
        "        self.input_x = tf.placeholder(tf.int32, [None, sequence_length], name=\"input_x\")\n",
        "        self.input_y = tf.placeholder(tf.float32, [None, num_classes], name=\"input_y\")\n",
        "        self.dropout_keep_prob = tf.placeholder(tf.float32, name=\"dropout_keep_prob\")\n",
        "\n",
        "        # Keeping track of l2 regularization loss (optional)\n",
        "        l2_loss = tf.constant(0.0)\n",
        "\n",
        "        # Embedding layer\n",
        "        with tf.device('/cpu:0'), tf.name_scope(\"embedding\"):\n",
        "            self.W = tf.Variable(tf.random_uniform([vocab_size, embedding_size], -1.0, 1.0),name=\"W\")  # We initialize embedding matrix using a random uniform distribution.\n",
        "            self.embedded_chars = tf.nn.embedding_lookup(self.W, self.input_x)                        \n",
        "            self.embedded_chars_expanded = tf.expand_dims(self.embedded_chars, -1) \n",
        "\n",
        "        # Create a convolution + maxpool layer for each filter size\n",
        "        pooled_outputs = []\n",
        "        for i, filter_size in enumerate(filter_sizes): \n",
        "            with tf.name_scope(\"conv-maxpool-%s\" % filter_size):\n",
        "                # Convolution Layer\n",
        "                filter_shape = [filter_size, embedding_size, 1, num_filters] \n",
        "                W = tf.Variable(tf.truncated_normal(filter_shape, stddev=0.1), name=\"W\")  \n",
        "                b = tf.Variable(tf.constant(0.1, shape=[num_filters]), name=\"b\")  \n",
        "                # Each filter slides over the whole embedding, but varies in how many words it covers\n",
        "                conv = tf.nn.conv2d(\n",
        "                    self.embedded_chars_expanded,  \n",
        "                    W,                                  \n",
        "                    strides=[1, 1, 1, 1],           \n",
        "                    padding=\"VALID\",\n",
        "                    name=\"conv\")\n",
        "                # h is the result of applying the nonlinearity to the convolution output. \n",
        "                h = tf.nn.relu(tf.nn.bias_add(conv, b), name=\"relu\") \n",
        "                # Maxpooling over the outputs\n",
        "                pooled = tf.nn.max_pool(\n",
        "                    h,\n",
        "                    ksize=[1, sequence_length - filter_size + 1, 1, 1],  \n",
        "                    strides=[1, 1, 1, 1],\n",
        "                    padding='VALID',\n",
        "                    name=\"pool\")\n",
        "                pooled_outputs.append(pooled)\n",
        "\n",
        "        # Combine all the pooled features\n",
        "        num_filters_total = num_filters * len(filter_sizes)\n",
        "        #  Once we have all the pooled output tensors from each filter size we combine them into one long feature vector of shape [batch_size, num_filters_total]. \n",
        "        self.h_pool = tf.concat(pooled_outputs, 3)\n",
        "        self.h_pool_flat = tf.reshape(self.h_pool, [-1, num_filters_total])\n",
        "\n",
        "        # Add dropout\n",
        "        with tf.name_scope(\"dropout\"):\n",
        "            self.h_drop = tf.nn.dropout(self.h_pool_flat, self.dropout_keep_prob)\n",
        "\n",
        "        # Final (unnormalized) scores and predictions\n",
        "        with tf.name_scope(\"output\"):\n",
        "            W = tf.get_variable(\n",
        "                \"W\",\n",
        "                shape=[num_filters_total, num_classes])\n",
        "            b = tf.Variable(tf.constant(0.1, shape=[num_classes]), name=\"b\")\n",
        "            l2_loss += tf.nn.l2_loss(W)\n",
        "            l2_loss += tf.nn.l2_loss(b)\n",
        "            self.scores = tf.nn.xw_plus_b(self.h_drop, W, b, name=\"scores\")\n",
        "            self.predictions = tf.argmax(self.scores, 1, name=\"predictions\")\n",
        "\n",
        "        # Calculate mean cross-entropy loss\n",
        "        with tf.name_scope(\"loss\"):\n",
        "            losses = tf.nn.softmax_cross_entropy_with_logits(logits=self.scores, labels=self.input_y)\n",
        "            self.loss = tf.reduce_mean(losses) + l2_reg_lambda * l2_loss\n",
        "\n",
        "        # Accuracy\n",
        "        with tf.name_scope(\"accuracy\"):\n",
        "            correct_predictions = tf.equal(self.predictions, tf.argmax(self.input_y, 1))\n",
        "            self.accuracy = tf.reduce_mean(tf.cast(correct_predictions, \"float\"), name=\"accuracy\")"
      ],
      "execution_count": null,
      "outputs": []
    },
    {
      "cell_type": "code",
      "metadata": {
        "colab": {
          "base_uri": "https://localhost:8080/",
          "height": 578
        },
        "id": "J_riveu6FI9j",
        "outputId": "65aea737-23a4-4ec2-979b-175b5029c189"
      },
      "source": [
        "sess = tf.Session()\n",
        "with sess.as_default():\n",
        "    cnn = TextCNN(\n",
        "        sequence_length=training_x.shape[1],\n",
        "        num_classes=training_y.shape[1],\n",
        "        vocab_size=vocabulary_size,\n",
        "        embedding_size=embedding_dim,\n",
        "        filter_sizes=list(map(int, filter_sizes.split(\",\"))),\n",
        "        num_filters=num_filters,\n",
        "        l2_reg_lambda=l2_reg_lambda)\n",
        "    global_step = tf.Variable(0, name=\"global_step\", trainable=False)\n",
        "    optimizer = tf.train.AdamOptimizer(1e-3)\n",
        "    grads_and_vars = optimizer.compute_gradients(cnn.loss)\n",
        "    train_op = optimizer.apply_gradients(grads_and_vars, global_step=global_step)\n",
        "\n",
        "    # Summaries for loss and accuracy\n",
        "    loss_summary = tf.summary.scalar(\"loss\", cnn.loss)\n",
        "    acc_summary = tf.summary.scalar(\"accuracy\", cnn.accuracy)\n",
        "\n",
        "    # Initialize all variables\n",
        "    sess.run(tf.global_variables_initializer())\n",
        "\n",
        "    for epoch in range(int(num_epochs)) :     \n",
        "        for i in range(int(num_batches)) :\n",
        "            off_1 = i * batch_size\n",
        "            off_2 = i * batch_size + batch_size\n",
        "            batch_x = training_x[off_1:off_2]\n",
        "            batch_y = training_y[off_1:off_2]\n",
        "            batch_x = np.asarray(batch_x)\n",
        "            batch_y = np.asarray(batch_y)\n",
        "            \n",
        "            batch_val_x = np.asarray(validation_x)\n",
        "            batch_val_y = np.asarray(validation_y)\n",
        "            \n",
        "        feed_dict_train = {\n",
        "                  cnn.input_x: batch_x,\n",
        "                  cnn.input_y: batch_y,\n",
        "                  cnn.dropout_keep_prob: dropout_keep_prob\n",
        "                }\n",
        "        \n",
        "        feed_dict_valid = {\n",
        "                  cnn.input_x: batch_val_x,\n",
        "                  cnn.input_y: batch_val_y,\n",
        "                  cnn.dropout_keep_prob: 1.0\n",
        "                }        \n",
        "        _, step, train_loss, train_accuracy = sess.run([train_op, global_step, cnn.loss, cnn.accuracy],feed_dict_train)\n",
        "        valid_loss, valid_accuracy= sess.run([cnn.loss, cnn.accuracy], feed_dict_valid)  \n",
        "        if epoch % 5 == 0:\n",
        "            print(\"Epoch{}: train_loss {:g}, train_acc {:g}, valid_loss {:g}, valid_acc {:g},\".format(epoch, train_loss, train_accuracy, valid_loss, valid_accuracy))\n",
        "\n",
        "    feed_dict_test = {\n",
        "                  cnn.input_x: testing_x,\n",
        "                  cnn.input_y: testing_y,\n",
        "                  cnn.dropout_keep_prob: 1.0\n",
        "                }\n",
        "    accuracy = sess.run([cnn.accuracy],feed_dict_test)\n",
        "    print(\"The final testing accuracy is:\")\n",
        "    print(accuracy)"
      ],
      "execution_count": null,
      "outputs": [
        {
          "output_type": "error",
          "ename": "ValueError",
          "evalue": "ignored",
          "traceback": [
            "\u001b[0;31m---------------------------------------------------------------------------\u001b[0m",
            "\u001b[0;31mValueError\u001b[0m                                Traceback (most recent call last)",
            "\u001b[0;32m<ipython-input-25-9cb4a0fe7de2>\u001b[0m in \u001b[0;36m<module>\u001b[0;34m()\u001b[0m\n\u001b[1;32m      8\u001b[0m         \u001b[0mfilter_sizes\u001b[0m\u001b[0;34m=\u001b[0m\u001b[0mlist\u001b[0m\u001b[0;34m(\u001b[0m\u001b[0mmap\u001b[0m\u001b[0;34m(\u001b[0m\u001b[0mint\u001b[0m\u001b[0;34m,\u001b[0m \u001b[0mfilter_sizes\u001b[0m\u001b[0;34m.\u001b[0m\u001b[0msplit\u001b[0m\u001b[0;34m(\u001b[0m\u001b[0;34m\",\"\u001b[0m\u001b[0;34m)\u001b[0m\u001b[0;34m)\u001b[0m\u001b[0;34m)\u001b[0m\u001b[0;34m,\u001b[0m\u001b[0;34m\u001b[0m\u001b[0;34m\u001b[0m\u001b[0m\n\u001b[1;32m      9\u001b[0m         \u001b[0mnum_filters\u001b[0m\u001b[0;34m=\u001b[0m\u001b[0mnum_filters\u001b[0m\u001b[0;34m,\u001b[0m\u001b[0;34m\u001b[0m\u001b[0;34m\u001b[0m\u001b[0m\n\u001b[0;32m---> 10\u001b[0;31m         l2_reg_lambda=l2_reg_lambda)\n\u001b[0m\u001b[1;32m     11\u001b[0m     \u001b[0mglobal_step\u001b[0m \u001b[0;34m=\u001b[0m \u001b[0mtf\u001b[0m\u001b[0;34m.\u001b[0m\u001b[0mVariable\u001b[0m\u001b[0;34m(\u001b[0m\u001b[0;36m0\u001b[0m\u001b[0;34m,\u001b[0m \u001b[0mname\u001b[0m\u001b[0;34m=\u001b[0m\u001b[0;34m\"global_step\"\u001b[0m\u001b[0;34m,\u001b[0m \u001b[0mtrainable\u001b[0m\u001b[0;34m=\u001b[0m\u001b[0;32mFalse\u001b[0m\u001b[0;34m)\u001b[0m\u001b[0;34m\u001b[0m\u001b[0;34m\u001b[0m\u001b[0m\n\u001b[1;32m     12\u001b[0m     \u001b[0moptimizer\u001b[0m \u001b[0;34m=\u001b[0m \u001b[0mtf\u001b[0m\u001b[0;34m.\u001b[0m\u001b[0mtrain\u001b[0m\u001b[0;34m.\u001b[0m\u001b[0mAdamOptimizer\u001b[0m\u001b[0;34m(\u001b[0m\u001b[0;36m1e-3\u001b[0m\u001b[0;34m)\u001b[0m\u001b[0;34m\u001b[0m\u001b[0;34m\u001b[0m\u001b[0m\n",
            "\u001b[0;32m<ipython-input-23-e0bdda6f63ab>\u001b[0m in \u001b[0;36m__init__\u001b[0;34m(self, sequence_length, num_classes, vocab_size, embedding_size, filter_sizes, num_filters, l2_reg_lambda)\u001b[0m\n\u001b[1;32m     62\u001b[0m             W = tf.get_variable(\n\u001b[1;32m     63\u001b[0m                 \u001b[0;34m\"W\"\u001b[0m\u001b[0;34m,\u001b[0m\u001b[0;34m\u001b[0m\u001b[0;34m\u001b[0m\u001b[0m\n\u001b[0;32m---> 64\u001b[0;31m                 shape=[num_filters_total, num_classes])\n\u001b[0m\u001b[1;32m     65\u001b[0m             \u001b[0mb\u001b[0m \u001b[0;34m=\u001b[0m \u001b[0mtf\u001b[0m\u001b[0;34m.\u001b[0m\u001b[0mVariable\u001b[0m\u001b[0;34m(\u001b[0m\u001b[0mtf\u001b[0m\u001b[0;34m.\u001b[0m\u001b[0mconstant\u001b[0m\u001b[0;34m(\u001b[0m\u001b[0;36m0.1\u001b[0m\u001b[0;34m,\u001b[0m \u001b[0mshape\u001b[0m\u001b[0;34m=\u001b[0m\u001b[0;34m[\u001b[0m\u001b[0mnum_classes\u001b[0m\u001b[0;34m]\u001b[0m\u001b[0;34m)\u001b[0m\u001b[0;34m,\u001b[0m \u001b[0mname\u001b[0m\u001b[0;34m=\u001b[0m\u001b[0;34m\"b\"\u001b[0m\u001b[0;34m)\u001b[0m\u001b[0;34m\u001b[0m\u001b[0;34m\u001b[0m\u001b[0m\n\u001b[1;32m     66\u001b[0m             \u001b[0ml2_loss\u001b[0m \u001b[0;34m+=\u001b[0m \u001b[0mtf\u001b[0m\u001b[0;34m.\u001b[0m\u001b[0mnn\u001b[0m\u001b[0;34m.\u001b[0m\u001b[0ml2_loss\u001b[0m\u001b[0;34m(\u001b[0m\u001b[0mW\u001b[0m\u001b[0;34m)\u001b[0m\u001b[0;34m\u001b[0m\u001b[0;34m\u001b[0m\u001b[0m\n",
            "\u001b[0;32m/usr/local/lib/python3.7/dist-packages/tensorflow/python/ops/variable_scope.py\u001b[0m in \u001b[0;36mget_variable\u001b[0;34m(name, shape, dtype, initializer, regularizer, trainable, collections, caching_device, partitioner, validate_shape, use_resource, custom_getter, constraint, synchronization, aggregation)\u001b[0m\n\u001b[1;32m   1591\u001b[0m       \u001b[0mconstraint\u001b[0m\u001b[0;34m=\u001b[0m\u001b[0mconstraint\u001b[0m\u001b[0;34m,\u001b[0m\u001b[0;34m\u001b[0m\u001b[0;34m\u001b[0m\u001b[0m\n\u001b[1;32m   1592\u001b[0m       \u001b[0msynchronization\u001b[0m\u001b[0;34m=\u001b[0m\u001b[0msynchronization\u001b[0m\u001b[0;34m,\u001b[0m\u001b[0;34m\u001b[0m\u001b[0;34m\u001b[0m\u001b[0m\n\u001b[0;32m-> 1593\u001b[0;31m       aggregation=aggregation)\n\u001b[0m\u001b[1;32m   1594\u001b[0m \u001b[0;34m\u001b[0m\u001b[0m\n\u001b[1;32m   1595\u001b[0m \u001b[0;34m\u001b[0m\u001b[0m\n",
            "\u001b[0;32m/usr/local/lib/python3.7/dist-packages/tensorflow/python/ops/variable_scope.py\u001b[0m in \u001b[0;36mget_variable\u001b[0;34m(self, var_store, name, shape, dtype, initializer, regularizer, reuse, trainable, collections, caching_device, partitioner, validate_shape, use_resource, custom_getter, constraint, synchronization, aggregation)\u001b[0m\n\u001b[1;32m   1334\u001b[0m           \u001b[0mconstraint\u001b[0m\u001b[0;34m=\u001b[0m\u001b[0mconstraint\u001b[0m\u001b[0;34m,\u001b[0m\u001b[0;34m\u001b[0m\u001b[0;34m\u001b[0m\u001b[0m\n\u001b[1;32m   1335\u001b[0m           \u001b[0msynchronization\u001b[0m\u001b[0;34m=\u001b[0m\u001b[0msynchronization\u001b[0m\u001b[0;34m,\u001b[0m\u001b[0;34m\u001b[0m\u001b[0;34m\u001b[0m\u001b[0m\n\u001b[0;32m-> 1336\u001b[0;31m           aggregation=aggregation)\n\u001b[0m\u001b[1;32m   1337\u001b[0m \u001b[0;34m\u001b[0m\u001b[0m\n\u001b[1;32m   1338\u001b[0m   def _get_partitioned_variable(self,\n",
            "\u001b[0;32m/usr/local/lib/python3.7/dist-packages/tensorflow/python/ops/variable_scope.py\u001b[0m in \u001b[0;36mget_variable\u001b[0;34m(self, name, shape, dtype, initializer, regularizer, reuse, trainable, collections, caching_device, partitioner, validate_shape, use_resource, custom_getter, constraint, synchronization, aggregation)\u001b[0m\n\u001b[1;32m    589\u001b[0m           \u001b[0mconstraint\u001b[0m\u001b[0;34m=\u001b[0m\u001b[0mconstraint\u001b[0m\u001b[0;34m,\u001b[0m\u001b[0;34m\u001b[0m\u001b[0;34m\u001b[0m\u001b[0m\n\u001b[1;32m    590\u001b[0m           \u001b[0msynchronization\u001b[0m\u001b[0;34m=\u001b[0m\u001b[0msynchronization\u001b[0m\u001b[0;34m,\u001b[0m\u001b[0;34m\u001b[0m\u001b[0;34m\u001b[0m\u001b[0m\n\u001b[0;32m--> 591\u001b[0;31m           aggregation=aggregation)\n\u001b[0m\u001b[1;32m    592\u001b[0m \u001b[0;34m\u001b[0m\u001b[0m\n\u001b[1;32m    593\u001b[0m   def _get_partitioned_variable(self,\n",
            "\u001b[0;32m/usr/local/lib/python3.7/dist-packages/tensorflow/python/ops/variable_scope.py\u001b[0m in \u001b[0;36m_true_getter\u001b[0;34m(name, shape, dtype, initializer, regularizer, reuse, trainable, collections, caching_device, partitioner, validate_shape, use_resource, constraint, synchronization, aggregation)\u001b[0m\n\u001b[1;32m    541\u001b[0m           \u001b[0mconstraint\u001b[0m\u001b[0;34m=\u001b[0m\u001b[0mconstraint\u001b[0m\u001b[0;34m,\u001b[0m\u001b[0;34m\u001b[0m\u001b[0;34m\u001b[0m\u001b[0m\n\u001b[1;32m    542\u001b[0m           \u001b[0msynchronization\u001b[0m\u001b[0;34m=\u001b[0m\u001b[0msynchronization\u001b[0m\u001b[0;34m,\u001b[0m\u001b[0;34m\u001b[0m\u001b[0;34m\u001b[0m\u001b[0m\n\u001b[0;32m--> 543\u001b[0;31m           aggregation=aggregation)\n\u001b[0m\u001b[1;32m    544\u001b[0m \u001b[0;34m\u001b[0m\u001b[0m\n\u001b[1;32m    545\u001b[0m     synchronization, aggregation, trainable = (\n",
            "\u001b[0;32m/usr/local/lib/python3.7/dist-packages/tensorflow/python/ops/variable_scope.py\u001b[0m in \u001b[0;36m_get_single_variable\u001b[0;34m(self, name, shape, dtype, initializer, regularizer, partition_info, reuse, trainable, collections, caching_device, validate_shape, use_resource, constraint, synchronization, aggregation)\u001b[0m\n\u001b[1;32m    891\u001b[0m         \u001b[0mtb\u001b[0m \u001b[0;34m=\u001b[0m \u001b[0;34m[\u001b[0m\u001b[0mx\u001b[0m \u001b[0;32mfor\u001b[0m \u001b[0mx\u001b[0m \u001b[0;32min\u001b[0m \u001b[0mtb\u001b[0m \u001b[0;32mif\u001b[0m \u001b[0;34m\"tensorflow/python\"\u001b[0m \u001b[0;32mnot\u001b[0m \u001b[0;32min\u001b[0m \u001b[0mx\u001b[0m\u001b[0;34m[\u001b[0m\u001b[0;36m0\u001b[0m\u001b[0;34m]\u001b[0m\u001b[0;34m]\u001b[0m\u001b[0;34m[\u001b[0m\u001b[0;34m:\u001b[0m\u001b[0;36m5\u001b[0m\u001b[0;34m]\u001b[0m\u001b[0;34m\u001b[0m\u001b[0;34m\u001b[0m\u001b[0m\n\u001b[1;32m    892\u001b[0m         raise ValueError(\"%s Originally defined at:\\n\\n%s\" %\n\u001b[0;32m--> 893\u001b[0;31m                          (err_msg, \"\".join(traceback.format_list(tb))))\n\u001b[0m\u001b[1;32m    894\u001b[0m       \u001b[0mfound_var\u001b[0m \u001b[0;34m=\u001b[0m \u001b[0mself\u001b[0m\u001b[0;34m.\u001b[0m\u001b[0m_vars\u001b[0m\u001b[0;34m[\u001b[0m\u001b[0mname\u001b[0m\u001b[0;34m]\u001b[0m\u001b[0;34m\u001b[0m\u001b[0;34m\u001b[0m\u001b[0m\n\u001b[1;32m    895\u001b[0m       \u001b[0;32mif\u001b[0m \u001b[0;32mnot\u001b[0m \u001b[0mshape\u001b[0m\u001b[0;34m.\u001b[0m\u001b[0mis_compatible_with\u001b[0m\u001b[0;34m(\u001b[0m\u001b[0mfound_var\u001b[0m\u001b[0;34m.\u001b[0m\u001b[0mget_shape\u001b[0m\u001b[0;34m(\u001b[0m\u001b[0;34m)\u001b[0m\u001b[0;34m)\u001b[0m\u001b[0;34m:\u001b[0m\u001b[0;34m\u001b[0m\u001b[0;34m\u001b[0m\u001b[0m\n",
            "\u001b[0;31mValueError\u001b[0m: Variable W already exists, disallowed. Did you mean to set reuse=True or reuse=tf.AUTO_REUSE in VarScope? Originally defined at:\n\n  File \"<ipython-input-23-e0bdda6f63ab>\", line 64, in __init__\n    shape=[num_filters_total, num_classes])\n  File \"<ipython-input-24-9cb4a0fe7de2>\", line 10, in <module>\n    l2_reg_lambda=l2_reg_lambda)\n  File \"/usr/local/lib/python3.7/dist-packages/IPython/core/interactiveshell.py\", line 2882, in run_code\n    exec(code_obj, self.user_global_ns, self.user_ns)\n  File \"/usr/local/lib/python3.7/dist-packages/IPython/core/interactiveshell.py\", line 2822, in run_ast_nodes\n    if self.run_code(code, result):\n  File \"/usr/local/lib/python3.7/dist-packages/IPython/core/interactiveshell.py\", line 2718, in run_cell\n    interactivity=interactivity, compiler=compiler, result=result)\n"
          ]
        }
      ]
    }
  ]
}